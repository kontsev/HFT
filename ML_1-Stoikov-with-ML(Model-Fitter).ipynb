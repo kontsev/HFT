{
 "cells": [
  {
   "cell_type": "code",
   "execution_count": 1,
   "metadata": {
    "collapsed": true
   },
   "outputs": [],
   "source": [
    "import sys\n",
    "sys.path.append('..')"
   ]
  },
  {
   "cell_type": "code",
   "execution_count": 2,
   "metadata": {
    "collapsed": false
   },
   "outputs": [],
   "source": [
    "import Simulator.simulator as simulator\n",
    "import Strategies.Stoikov as Stoikov\n",
    "import Simulator.get_info as get_info\n",
    "import Simulator.load_data as load_data\n",
    "\n",
    "from importlib import reload\n",
    "\n",
    "import pandas as pd\n",
    "import numpy as np\n",
    "import datetime\n",
    "from matplotlib import pyplot as plt\n",
    "from tqdm import tqdm\n",
    "tqdm.pandas()\n",
    "\n",
    "path_to_file = '../data/data_eth/'\n",
    "run_time = pd.Timedelta(hours=12).value"
   ]
  },
  {
   "cell_type": "markdown",
   "metadata": {},
   "source": [
    "## Get data"
   ]
  },
  {
   "cell_type": "code",
   "execution_count": 3,
   "metadata": {
    "collapsed": false
   },
   "outputs": [],
   "source": [
    "trades = pd.read_csv(path_to_file + 'trades.csv')\n",
    "trades.index = list(trades.index)\n",
    "\n",
    "trades['receive_ts'] = pd.to_datetime(trades['receive_ts'])\n",
    "trades['supporting: size_cumsum'] = trades['size'].cumsum()\n",
    "trades['supporting: 1_sec_before'] = trades['receive_ts'].searchsorted(trades['receive_ts'] - datetime.timedelta(seconds=1))\n",
    "dct = dict(zip(trades.index, trades['supporting: size_cumsum']))\n",
    "trades['supporting: cs_1_sec_before'] = trades['supporting: 1_sec_before'].map(dct)\n",
    "trades['order_intensity'] = trades['supporting: size_cumsum'] - trades['supporting: cs_1_sec_before']"
   ]
  },
  {
   "cell_type": "code",
   "execution_count": 4,
   "metadata": {
    "collapsed": false
   },
   "outputs": [],
   "source": [
    "lobs = pd.read_csv(path_to_file + 'lobs.csv')\n",
    "lobs = lobs.rename(columns={\n",
    "    ' exchange_ts': 'exchange_ts'\n",
    "})\n",
    "\n",
    "features = lobs.columns\n",
    "lobs.index = list(lobs.index)\n",
    "lobs['receive_ts'] = pd.to_datetime(lobs['receive_ts'])"
   ]
  },
  {
   "cell_type": "code",
   "execution_count": 5,
   "metadata": {
    "collapsed": false
   },
   "outputs": [],
   "source": [
    "lobs['supporting: 1_sec_before'] = lobs['receive_ts'].searchsorted(lobs['receive_ts'] - datetime.timedelta(seconds=1))\n",
    "lobs['supporting: 1_sec_after'] = lobs['receive_ts'].searchsorted(lobs['receive_ts'] + datetime.timedelta(seconds=1))\n",
    "lobs['supporting: 500_ms_after'] = lobs['receive_ts'].searchsorted(lobs['receive_ts'] + datetime.timedelta(milliseconds=1))\n",
    "\n",
    "lobs['midprice'] = (lobs['ethusdt:Binance:LinearPerpetual_ask_price_0'] + lobs['ethusdt:Binance:LinearPerpetual_bid_price_0']) / 2\n",
    "lobs['future: midprice'] = lobs['supporting: 500_ms_after'].map(dict(zip(lobs.index, lobs['midprice'])))\n",
    "lobs['future: return'] = np.log(lobs['future: midprice']/lobs['midprice'])\n",
    "lobs['i'] = lobs.index"
   ]
  },
  {
   "cell_type": "code",
   "execution_count": 6,
   "metadata": {
    "collapsed": false
   },
   "outputs": [
    {
     "name": "stderr",
     "output_type": "stream",
     "text": [
      "100%|██████████| 2539699/2539699 [05:31<00:00, 7664.00it/s]\n"
     ]
    }
   ],
   "source": [
    "lobs['volatility'] = lobs.progress_apply(lambda x : lobs['future: return'].iloc[x['supporting: 1_sec_before'] : x['i'] + 1].std(), axis=1)"
   ]
  },
  {
   "cell_type": "code",
   "execution_count": 7,
   "metadata": {
    "collapsed": false
   },
   "outputs": [],
   "source": [
    "lobs['future: volatility'] = lobs['supporting: 1_sec_after'].map(dict(zip(lobs.index, lobs['volatility'])))\n",
    "lobs['order_intensity'] = trades['order_intensity'][trades['receive_ts'].searchsorted(lobs['receive_ts']).clip(0, trades.shape[0] - 1)].reset_index(drop=True)\n",
    "lobs['future: order_intensity'] = trades['order_intensity'][trades['receive_ts'].searchsorted(lobs['receive_ts'] + datetime.timedelta(seconds=1)).clip(0, trades.shape[0] - 1)].reset_index(drop=True)"
   ]
  },
  {
   "cell_type": "code",
   "execution_count": 8,
   "metadata": {
    "collapsed": false
   },
   "outputs": [],
   "source": [
    "lobs = lobs.iloc[1000:-1000]"
   ]
  },
  {
   "cell_type": "code",
   "execution_count": 9,
   "metadata": {
    "collapsed": false
   },
   "outputs": [],
   "source": [
    "targets = {\n",
    "    'return': lobs['future: return'].copy(deep=True),\n",
    "    'volatility': lobs['future: volatility'].copy(deep=True),\n",
    "    'order_intensity': lobs['future: order_intensity'].copy(deep=True)\n",
    "}"
   ]
  },
  {
   "cell_type": "code",
   "execution_count": 10,
   "metadata": {},
   "outputs": [],
   "source": [
    "returns = pd.DataFrame({'return': targets['return']})\n",
    "volatility = pd.DataFrame({'volatility': targets['volatility']})\n",
    "order_intensity = pd.DataFrame({'order_intensity': targets['order_intensity']})"
   ]
  },
  {
   "cell_type": "code",
   "execution_count": 11,
   "metadata": {},
   "outputs": [],
   "source": [
    "returns.to_pickle('../data/data_eth/target/return.pickle')\n",
    "volatility.to_pickle('../data/data_eth/target/volatility.pickle')\n",
    "order_intensity.to_pickle('../data/data_eth/target/order_intensity.pickle')"
   ]
  },
  {
   "cell_type": "markdown",
   "metadata": {
    "collapsed": false
   },
   "source": [
    "## Predict"
   ]
  },
  {
   "cell_type": "code",
   "execution_count": 12,
   "metadata": {
    "collapsed": false
   },
   "outputs": [],
   "source": [
    "from lightgbm import LGBMRegressor\n",
    "import joblib\n",
    "from sklearn.metrics import r2_score"
   ]
  },
  {
   "cell_type": "code",
   "execution_count": 13,
   "metadata": {
    "collapsed": false
   },
   "outputs": [],
   "source": [
    "import re\n",
    "lobs = lobs[features]\n",
    "lobs = lobs.rename(columns = lambda x:re.sub('[^A-Za-z0-9_]+', '-', x))"
   ]
  },
  {
   "cell_type": "code",
   "execution_count": 14,
   "metadata": {
    "collapsed": false
   },
   "outputs": [
    {
     "data": {
      "text/plain": [
       "array([[1.       , 0.0561553],\n",
       "       [0.0561553, 1.       ]])"
      ]
     },
     "execution_count": 14,
     "metadata": {},
     "output_type": "execute_result"
    }
   ],
   "source": [
    "params = {'objective': 'regression', 'learning_rate': 0.1, 'num_leaves': 8, 'early_stopping_round': 10,\n",
    "          'verbose': -1, 'linear_tree': True}\n",
    "\n",
    "model = LGBMRegressor(**params)\n",
    "X_train = lobs[:1_800_000].drop(columns=['receive_ts', 'exchange_ts'])\n",
    "y_train = targets['return'][:1800000]\n",
    "\n",
    "X_es = lobs[1800000:2100000].drop(columns=['receive_ts', 'exchange_ts'])\n",
    "y_es = targets['return'][1800000:2100000]\n",
    "\n",
    "X_val = lobs[2100000:].drop(columns=['receive_ts', 'exchange_ts'])\n",
    "y_val = targets['return'][2100000:]\n",
    "\n",
    "model.fit(X_train, y_train, eval_set=[(X_es, y_es)])\n",
    "\n",
    "joblib.dump(model, 'return_predictor.pkl')\n",
    "\n",
    "preds = model.predict(X_val)\n",
    "\n",
    "np.corrcoef(y_val, preds)"
   ]
  },
  {
   "cell_type": "code",
   "execution_count": 15,
   "metadata": {},
   "outputs": [
    {
     "data": {
      "text/plain": [
       "-0.20908657162249566"
      ]
     },
     "execution_count": 15,
     "metadata": {},
     "output_type": "execute_result"
    }
   ],
   "source": [
    "r2_score(y_val, preds)"
   ]
  },
  {
   "cell_type": "code",
   "execution_count": 16,
   "metadata": {
    "collapsed": false
   },
   "outputs": [
    {
     "data": {
      "text/plain": [
       "array([[1.        , 0.47677794],\n",
       "       [0.47677794, 1.        ]])"
      ]
     },
     "execution_count": 16,
     "metadata": {},
     "output_type": "execute_result"
    }
   ],
   "source": [
    "params = {'objective': 'regression', 'learning_rate': 0.1, 'num_leaves': 8, 'early_stopping_round': 10,\n",
    "          'verbose': -1, 'linear_tree': True}\n",
    "\n",
    "model = LGBMRegressor(**params)\n",
    "X_train = lobs[:1800000].drop(columns=['receive_ts', 'exchange_ts'])\n",
    "y_train = targets['volatility'][:1800000]\n",
    "\n",
    "X_es = lobs[1800000:2_100_000].drop(columns=['receive_ts', 'exchange_ts'])\n",
    "y_es = targets['volatility'][1800000:2100000]\n",
    "\n",
    "X_val = lobs[2100000:].drop(columns=['receive_ts', 'exchange_ts'])\n",
    "y_val = targets['volatility'][2100000:]\n",
    "\n",
    "model.fit(X_train, y_train, eval_set=[(X_es, y_es)])\n",
    "\n",
    "joblib.dump(model, 'volatility_predictor.pkl')\n",
    "\n",
    "preds = model.predict(X_val)\n",
    "\n",
    "np.corrcoef(y_val, preds)"
   ]
  },
  {
   "cell_type": "code",
   "execution_count": 17,
   "metadata": {},
   "outputs": [
    {
     "data": {
      "text/plain": [
       "-0.0890721344855383"
      ]
     },
     "execution_count": 17,
     "metadata": {},
     "output_type": "execute_result"
    }
   ],
   "source": [
    "r2_score(y_val, preds)"
   ]
  },
  {
   "cell_type": "code",
   "execution_count": 18,
   "metadata": {
    "collapsed": false
   },
   "outputs": [
    {
     "name": "stdout",
     "output_type": "stream",
     "text": [
      "[LightGBM] [Info] Auto-choosing row-wise multi-threading, the overhead of testing was 0.120222 seconds.\n",
      "You can set `force_row_wise=true` to remove the overhead.\n",
      "And if memory is not enough, you can set `force_col_wise=true`.\n",
      "[LightGBM] [Info] Total Bins 10200\n",
      "[LightGBM] [Info] Number of data points in the train set: 1800000, number of used features: 40\n",
      "[LightGBM] [Info] Start training from score 61.710788\n"
     ]
    },
    {
     "data": {
      "text/plain": [
       "array([[1.      , 0.091568],\n",
       "       [0.091568, 1.      ]])"
      ]
     },
     "execution_count": 18,
     "metadata": {},
     "output_type": "execute_result"
    }
   ],
   "source": [
    "params = {'objective': 'regression', 'learning_rate': 0.1, 'num_leaves': 8, 'early_stopping_round': 10,\n",
    "          'verbose': -1, 'linear_tree': True}\n",
    "\n",
    "model = LGBMRegressor()\n",
    "X_train = lobs[:1800000].drop(columns=['receive_ts', 'exchange_ts'])\n",
    "y_train = targets['order_intensity'][:1800000]\n",
    "\n",
    "X_es = lobs[1800000:2100000].drop(columns=['receive_ts', 'exchange_ts'])\n",
    "y_es = targets['order_intensity'][1800000:2100000]\n",
    "\n",
    "X_val = lobs[2100000:].drop(columns=['receive_ts', 'exchange_ts'])\n",
    "y_val = targets['order_intensity'][2100000:]\n",
    "\n",
    "model.fit(X_train, y_train)\n",
    "\n",
    "joblib.dump(model, 'order_intensity_predictor.pkl')\n",
    "\n",
    "preds = model.predict(X_val)\n",
    "\n",
    "np.corrcoef(y_val, preds)"
   ]
  },
  {
   "cell_type": "code",
   "execution_count": 19,
   "metadata": {},
   "outputs": [
    {
     "data": {
      "text/plain": [
       "-0.5171460055374275"
      ]
     },
     "execution_count": 19,
     "metadata": {},
     "output_type": "execute_result"
    }
   ],
   "source": [
    "r2_score(y_val, preds)"
   ]
  }
 ],
 "metadata": {
  "kernelspec": {
   "display_name": "Python 3",
   "language": "python",
   "name": "python3"
  },
  "language_info": {
   "codemirror_mode": {
    "name": "ipython",
    "version": 3
   },
   "file_extension": ".py",
   "mimetype": "text/x-python",
   "name": "python",
   "nbconvert_exporter": "python",
   "pygments_lexer": "ipython3",
   "version": "3.9.6"
  }
 },
 "nbformat": 4,
 "nbformat_minor": 0
}
